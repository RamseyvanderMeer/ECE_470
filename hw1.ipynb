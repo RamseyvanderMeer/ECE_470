{
 "cells": [
  {
   "cell_type": "code",
   "execution_count": 5,
   "metadata": {},
   "outputs": [],
   "source": [
    "import numpy as np"
   ]
  },
  {
   "cell_type": "code",
   "execution_count": 7,
   "metadata": {},
   "outputs": [],
   "source": [
    "\n",
    "T_73 = np.array([[-0.11786941, -0.03269680, 0.99249067, 0.06784734], [-0.43999276, -0.89427568, -0.08171527, 0.15231394], [0.89023209, -0.44632044, 0.09102140, 0.98849771], [0.00000000, 0.00000000, 0.00000000, 1.00000000]])\n",
    "p_3 = np.array([[0.33653722], [0.61483691], [0.36347208],[1]])\n",
    "print(T_73@p_3)"
   ]
  },
  {
   "cell_type": "code",
   "execution_count": 13,
   "metadata": {},
   "outputs": [
    {
     "name": "stdout",
     "output_type": "stream",
     "text": [
      "[[ 1.06012112]\n",
      " [-0.55839717]\n",
      " [ 1.32472735]]\n"
     ]
    }
   ],
   "source": [
    "p_0 = np.array([[0.49950814], [-0.99167920], [0.53100593]])\n",
    "R_70 = np.array([[0.00677526, -0.02112198, -0.99975395], [0.98900088, 0.14786633, 0.00357839], [0.14775437, -0.98878178, 0.02189149]])\n",
    "q_0 = np.array([[0.54959041], [-0.73259071], [-0.54154884]])\n",
    "\n",
    "# Find q in the coordinates of frame 0:\n",
    "print(R_70@q_0 + p_0)"
   ]
  },
  {
   "cell_type": "code",
   "execution_count": 16,
   "metadata": {},
   "outputs": [
    {
     "name": "stdout",
     "output_type": "stream",
     "text": [
      "[[-0.84640804  0.          0.53253491]\n",
      " [ 0.          1.          0.        ]\n",
      " [-0.53253491  0.         -0.84640804]]\n"
     ]
    }
   ],
   "source": [
    "theta = 2.58\n",
    "\n",
    "# find rotation matrix R_01 if Suppose that frame 1 and frame 0 are initially aligned, and that frame 1 rotates by an angle 2.58 about the y-axis.\n",
    "\n",
    "R_01 = np.array([[np.cos(theta), 0, np.sin(theta)], [0, 1, 0], [-np.sin(theta), 0, np.cos(theta)]])\n",
    "print(R_01)\n"
   ]
  },
  {
   "cell_type": "code",
   "execution_count": 19,
   "metadata": {},
   "outputs": [
    {
     "data": {
      "text/plain": [
       "array([[ 0.41787434,  0.5915138 ,  0.68955963, -1.05575465],\n",
       "       [ 0.9078891 , -0.24394752, -0.34092081, -0.41993172],\n",
       "       [-0.033443  ,  0.76850572, -0.63896833, -0.02850189],\n",
       "       [ 0.        ,  0.        ,  0.        ,  1.        ]])"
      ]
     },
     "execution_count": 19,
     "metadata": {},
     "output_type": "execute_result"
    }
   ],
   "source": [
    "# he pose of frame 2 in the coordinates of frame 5 is:\n",
    "T_52 = np.array([[0.41787433, 0.90788909, -0.03344300, 0.82147101], [0.59151379, -0.24394752, 0.76850572, 0.54395600], [0.68955962, -0.34092081, -0.63896833, 0.56663051], [0.00000000, 0.00000000, 0.00000000, 1.00000000]])\n",
    "# Find the pose of frame 5 in the coordinates of frame 2:\n",
    "np.linalg.inv(T_52)"
   ]
  },
  {
   "cell_type": "code",
   "execution_count": null,
   "metadata": {},
   "outputs": [],
   "source": []
  }
 ],
 "metadata": {
  "kernelspec": {
   "display_name": "Python 3 (ipykernel)",
   "language": "python",
   "name": "python3"
  },
  "language_info": {
   "codemirror_mode": {
    "name": "ipython",
    "version": 3
   },
   "file_extension": ".py",
   "mimetype": "text/x-python",
   "name": "python",
   "nbconvert_exporter": "python",
   "pygments_lexer": "ipython3",
   "version": "3.9.16"
  },
  "vscode": {
   "interpreter": {
    "hash": "e900e4288f96937a9dc7cf840fba3cf76005a975bd9680d5c0ac748cf65db2e4"
   }
  }
 },
 "nbformat": 4,
 "nbformat_minor": 2
}
